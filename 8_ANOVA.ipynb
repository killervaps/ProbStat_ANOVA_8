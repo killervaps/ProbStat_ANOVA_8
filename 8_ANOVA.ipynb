{
  "nbformat": 4,
  "nbformat_minor": 0,
  "metadata": {
    "colab": {
      "provenance": []
    },
    "kernelspec": {
      "name": "python3",
      "display_name": "Python 3"
    },
    "language_info": {
      "name": "python"
    }
  },
  "cells": [
    {
      "cell_type": "markdown",
      "source": [
        "# ANOVA (Analysis of Variance)"
      ],
      "metadata": {
        "id": "cETZCHnk5uay"
      }
    },
    {
      "cell_type": "markdown",
      "source": [
        "## Pengantar, Konsep, dan Penerapan dengan Studi Kasus"
      ],
      "metadata": {
        "id": "E1PsgKR15ysc"
      }
    },
    {
      "cell_type": "markdown",
      "source": [
        "### Bagian 1: Pengantar ANOVA"
      ],
      "metadata": {
        "id": "qy_ooQwz53ge"
      }
    },
    {
      "cell_type": "markdown",
      "source": [
        "ANOVA (Analysis of Variance) adalah metode statistik yang digunakan untuk membandingkan rata-rata (mean) dari tiga kelompok atau lebih untuk menentukan apakah ada perbedaan yang signifikan di antara mereka. ANOVA sangat berguna dalam situasi di mana kita ingin menguji efek dari satu atau lebih faktor terhadap suatu variabel tertentu.\n",
        "\n",
        "Contoh penggunaan ANOVA:\n",
        "- Apakah ada perbedaan hasil panen antara beberapa jenis pupuk?\n",
        "- Apakah metode pengajaran yang berbeda memengaruhi nilai siswa?\n",
        "- Apakah performa algoritma berbeda pada dataset yang berbeda?\n",
        "\n",
        "Tujuan utama ANOVA adalah untuk menguji hipotesis bahwa semua kelompok memiliki rata-rata yang sama (hipotesis nol) melawan hipotesis alternatif bahwa setidaknya satu kelompok memiliki rata-rata yang berbeda."
      ],
      "metadata": {
        "id": "wkYTiSqH6A7b"
      }
    },
    {
      "cell_type": "markdown",
      "source": [
        "### Bagian 2: Jenis-jenis ANOVA"
      ],
      "metadata": {
        "id": "UtdQNa906HHw"
      }
    },
    {
      "cell_type": "markdown",
      "source": [
        "Ada beberapa jenis ANOVA, tetapi kita akan fokus pada dua yang paling umum:\n",
        "1. **ANOVA Satu Arah (One-Way ANOVA)**: Digunakan untuk membandingkan rata-rata dari beberapa kelompok berdasarkan satu faktor. Misalnya, membandingkan nilai siswa dari tiga metode pengajaran berbeda.\n",
        "2. **ANOVA Dua Arah (Two-Way ANOVA)**: Digunakan untuk membandingkan rata-rata berdasarkan dua faktor sekaligus, misalnya metode pengajaran dan tingkat kelas siswa."
      ],
      "metadata": {
        "id": "Pa4-A_E16NEI"
      }
    },
    {
      "cell_type": "markdown",
      "source": [
        "### Bagian 3: Asumsi ANOVA"
      ],
      "metadata": {
        "id": "b_hV3Ude6SZS"
      }
    },
    {
      "cell_type": "markdown",
      "source": [
        "Sebelum menggunakan ANOVA, ada beberapa asumsi yang harus dipenuhi:\n",
        "1. **Independensi Pengamatan**: Data dalam setiap kelompok harus independen satu sama lain (tidak saling memengaruhi).\n",
        "2. **Normalitas**: Data dalam setiap kelompok harus mengikuti distribusi normal. Kita bisa memeriksanya dengan tes seperti Shapiro-Wilk atau dengan visualisasi seperti histogram.\n",
        "3. **Homogenitas Varians**: Varians (penyebaran data) antar kelompok harus sama. Kita bisa memeriksanya dengan tes Levene.\n",
        "\n",
        "Jika asumsi ini tidak terpenuhi, hasil ANOVA mungkin tidak valid, dan kita perlu metode lain."
      ],
      "metadata": {
        "id": "8U1qASmb6cZu"
      }
    },
    {
      "cell_type": "markdown",
      "source": [
        "### Bagian 4: Langkah-langkah ANOVA"
      ],
      "metadata": {
        "id": "oVRIc1xV6fAl"
      }
    },
    {
      "cell_type": "markdown",
      "source": [
        "Berikut langkah-langkah melakukan ANOVA:\n",
        "1. **Merumuskan Hipotesis**:\n",
        "   - Hipotesis Nol (H0): Semua kelompok memiliki rata-rata yang sama.\n",
        "   - Hipotesis Alternatif (H1): Setidaknya satu kelompok memiliki rata-rata yang berbeda.\n",
        "2. **Menghitung Statistik F**: Statistik F mengukur rasio varians antar kelompok terhadap varians dalam kelompok.\n",
        "3. **Menentukan P-value**: P-value menunjukkan probabilitas bahwa H0 benar. Jika p-value < 0.05, kita tolak H0.\n",
        "4. **Membuat Kesimpulan**: Berdasarkan p-value, kita putuskan apakah ada perbedaan signifikan."
      ],
      "metadata": {
        "id": "vAfPYDI46hbo"
      }
    },
    {
      "cell_type": "markdown",
      "source": [
        "### Bagian 5: Penerapan dalam Python"
      ],
      "metadata": {
        "id": "1Q1828WR6mKf"
      }
    },
    {
      "cell_type": "markdown",
      "source": [
        "#### Import Library"
      ],
      "metadata": {
        "id": "Ok6RNFHh7zvt"
      }
    },
    {
      "cell_type": "code",
      "source": [
        "import numpy as np\n",
        "import pandas as pd\n",
        "import matplotlib.pyplot as plt\n",
        "import seaborn as sns\n",
        "from scipy import stats\n",
        "import statsmodels.api as sm\n",
        "from statsmodels.formula.api import ols"
      ],
      "metadata": {
        "id": "3Pey3skZ6pWr"
      },
      "execution_count": null,
      "outputs": []
    },
    {
      "cell_type": "markdown",
      "source": [
        "#### Contoh sederhana ANOVA satu arah dengan Python\n",
        "Data: Nilai siswa dari tiga metode pengajaran"
      ],
      "metadata": {
        "id": "iy0opncf76tB"
      }
    },
    {
      "cell_type": "code",
      "source": [
        "# Dataset\n",
        "metode_a = [85, 87, 90, 88, 86]\n",
        "metode_b = [78, 80, 82, 79, 81]\n",
        "metode_c = [92, 94, 91, 93, 90]"
      ],
      "metadata": {
        "id": "tpyPT93S8DM1"
      },
      "execution_count": null,
      "outputs": []
    },
    {
      "cell_type": "markdown",
      "source": [
        "#### Menggabungkan data ke dalam satu list untuk ANOVA"
      ],
      "metadata": {
        "id": "lyaTvRTm8Iim"
      }
    },
    {
      "cell_type": "code",
      "source": [
        "data = metode_a + metode_b + metode_c\n",
        "kelompok = ['Metode A']*5 + ['Metode B']*5 + ['Metode C']*5\n",
        "df = pd.DataFrame({'Nilai': data, 'Kelompok': kelompok})"
      ],
      "metadata": {
        "id": "F0dEwSpo8MJI"
      },
      "execution_count": null,
      "outputs": []
    },
    {
      "cell_type": "code",
      "source": [
        "data"
      ],
      "metadata": {
        "colab": {
          "base_uri": "https://localhost:8080/"
        },
        "id": "ShzakMvRHIUH",
        "outputId": "06655d51-79bf-4e4a-f8bb-e3180c5a3e22"
      },
      "execution_count": null,
      "outputs": [
        {
          "output_type": "execute_result",
          "data": {
            "text/plain": [
              "[85, 87, 90, 88, 86, 78, 80, 82, 79, 81, 92, 94, 91, 93, 90]"
            ]
          },
          "metadata": {},
          "execution_count": 4
        }
      ]
    },
    {
      "cell_type": "code",
      "source": [
        "kelompok"
      ],
      "metadata": {
        "colab": {
          "base_uri": "https://localhost:8080/"
        },
        "id": "-I1Q0CEBHKRB",
        "outputId": "aeb77007-3faa-4b39-c326-5c1d7e066c50"
      },
      "execution_count": null,
      "outputs": [
        {
          "output_type": "execute_result",
          "data": {
            "text/plain": [
              "['Metode A',\n",
              " 'Metode A',\n",
              " 'Metode A',\n",
              " 'Metode A',\n",
              " 'Metode A',\n",
              " 'Metode B',\n",
              " 'Metode B',\n",
              " 'Metode B',\n",
              " 'Metode B',\n",
              " 'Metode B',\n",
              " 'Metode C',\n",
              " 'Metode C',\n",
              " 'Metode C',\n",
              " 'Metode C',\n",
              " 'Metode C']"
            ]
          },
          "metadata": {},
          "execution_count": 5
        }
      ]
    },
    {
      "cell_type": "code",
      "source": [
        "df"
      ],
      "metadata": {
        "colab": {
          "base_uri": "https://localhost:8080/",
          "height": 519
        },
        "id": "0YDSguarHPyU",
        "outputId": "85917c84-f703-4c34-ea0e-c8aae2c657dc"
      },
      "execution_count": null,
      "outputs": [
        {
          "output_type": "execute_result",
          "data": {
            "text/plain": [
              "    Nilai  Kelompok\n",
              "0      85  Metode A\n",
              "1      87  Metode A\n",
              "2      90  Metode A\n",
              "3      88  Metode A\n",
              "4      86  Metode A\n",
              "5      78  Metode B\n",
              "6      80  Metode B\n",
              "7      82  Metode B\n",
              "8      79  Metode B\n",
              "9      81  Metode B\n",
              "10     92  Metode C\n",
              "11     94  Metode C\n",
              "12     91  Metode C\n",
              "13     93  Metode C\n",
              "14     90  Metode C"
            ],
            "text/html": [
              "\n",
              "  <div id=\"df-c98f5ffe-d659-439d-86c6-f9371688edf1\" class=\"colab-df-container\">\n",
              "    <div>\n",
              "<style scoped>\n",
              "    .dataframe tbody tr th:only-of-type {\n",
              "        vertical-align: middle;\n",
              "    }\n",
              "\n",
              "    .dataframe tbody tr th {\n",
              "        vertical-align: top;\n",
              "    }\n",
              "\n",
              "    .dataframe thead th {\n",
              "        text-align: right;\n",
              "    }\n",
              "</style>\n",
              "<table border=\"1\" class=\"dataframe\">\n",
              "  <thead>\n",
              "    <tr style=\"text-align: right;\">\n",
              "      <th></th>\n",
              "      <th>Nilai</th>\n",
              "      <th>Kelompok</th>\n",
              "    </tr>\n",
              "  </thead>\n",
              "  <tbody>\n",
              "    <tr>\n",
              "      <th>0</th>\n",
              "      <td>85</td>\n",
              "      <td>Metode A</td>\n",
              "    </tr>\n",
              "    <tr>\n",
              "      <th>1</th>\n",
              "      <td>87</td>\n",
              "      <td>Metode A</td>\n",
              "    </tr>\n",
              "    <tr>\n",
              "      <th>2</th>\n",
              "      <td>90</td>\n",
              "      <td>Metode A</td>\n",
              "    </tr>\n",
              "    <tr>\n",
              "      <th>3</th>\n",
              "      <td>88</td>\n",
              "      <td>Metode A</td>\n",
              "    </tr>\n",
              "    <tr>\n",
              "      <th>4</th>\n",
              "      <td>86</td>\n",
              "      <td>Metode A</td>\n",
              "    </tr>\n",
              "    <tr>\n",
              "      <th>5</th>\n",
              "      <td>78</td>\n",
              "      <td>Metode B</td>\n",
              "    </tr>\n",
              "    <tr>\n",
              "      <th>6</th>\n",
              "      <td>80</td>\n",
              "      <td>Metode B</td>\n",
              "    </tr>\n",
              "    <tr>\n",
              "      <th>7</th>\n",
              "      <td>82</td>\n",
              "      <td>Metode B</td>\n",
              "    </tr>\n",
              "    <tr>\n",
              "      <th>8</th>\n",
              "      <td>79</td>\n",
              "      <td>Metode B</td>\n",
              "    </tr>\n",
              "    <tr>\n",
              "      <th>9</th>\n",
              "      <td>81</td>\n",
              "      <td>Metode B</td>\n",
              "    </tr>\n",
              "    <tr>\n",
              "      <th>10</th>\n",
              "      <td>92</td>\n",
              "      <td>Metode C</td>\n",
              "    </tr>\n",
              "    <tr>\n",
              "      <th>11</th>\n",
              "      <td>94</td>\n",
              "      <td>Metode C</td>\n",
              "    </tr>\n",
              "    <tr>\n",
              "      <th>12</th>\n",
              "      <td>91</td>\n",
              "      <td>Metode C</td>\n",
              "    </tr>\n",
              "    <tr>\n",
              "      <th>13</th>\n",
              "      <td>93</td>\n",
              "      <td>Metode C</td>\n",
              "    </tr>\n",
              "    <tr>\n",
              "      <th>14</th>\n",
              "      <td>90</td>\n",
              "      <td>Metode C</td>\n",
              "    </tr>\n",
              "  </tbody>\n",
              "</table>\n",
              "</div>\n",
              "    <div class=\"colab-df-buttons\">\n",
              "\n",
              "  <div class=\"colab-df-container\">\n",
              "    <button class=\"colab-df-convert\" onclick=\"convertToInteractive('df-c98f5ffe-d659-439d-86c6-f9371688edf1')\"\n",
              "            title=\"Convert this dataframe to an interactive table.\"\n",
              "            style=\"display:none;\">\n",
              "\n",
              "  <svg xmlns=\"http://www.w3.org/2000/svg\" height=\"24px\" viewBox=\"0 -960 960 960\">\n",
              "    <path d=\"M120-120v-720h720v720H120Zm60-500h600v-160H180v160Zm220 220h160v-160H400v160Zm0 220h160v-160H400v160ZM180-400h160v-160H180v160Zm440 0h160v-160H620v160ZM180-180h160v-160H180v160Zm440 0h160v-160H620v160Z\"/>\n",
              "  </svg>\n",
              "    </button>\n",
              "\n",
              "  <style>\n",
              "    .colab-df-container {\n",
              "      display:flex;\n",
              "      gap: 12px;\n",
              "    }\n",
              "\n",
              "    .colab-df-convert {\n",
              "      background-color: #E8F0FE;\n",
              "      border: none;\n",
              "      border-radius: 50%;\n",
              "      cursor: pointer;\n",
              "      display: none;\n",
              "      fill: #1967D2;\n",
              "      height: 32px;\n",
              "      padding: 0 0 0 0;\n",
              "      width: 32px;\n",
              "    }\n",
              "\n",
              "    .colab-df-convert:hover {\n",
              "      background-color: #E2EBFA;\n",
              "      box-shadow: 0px 1px 2px rgba(60, 64, 67, 0.3), 0px 1px 3px 1px rgba(60, 64, 67, 0.15);\n",
              "      fill: #174EA6;\n",
              "    }\n",
              "\n",
              "    .colab-df-buttons div {\n",
              "      margin-bottom: 4px;\n",
              "    }\n",
              "\n",
              "    [theme=dark] .colab-df-convert {\n",
              "      background-color: #3B4455;\n",
              "      fill: #D2E3FC;\n",
              "    }\n",
              "\n",
              "    [theme=dark] .colab-df-convert:hover {\n",
              "      background-color: #434B5C;\n",
              "      box-shadow: 0px 1px 3px 1px rgba(0, 0, 0, 0.15);\n",
              "      filter: drop-shadow(0px 1px 2px rgba(0, 0, 0, 0.3));\n",
              "      fill: #FFFFFF;\n",
              "    }\n",
              "  </style>\n",
              "\n",
              "    <script>\n",
              "      const buttonEl =\n",
              "        document.querySelector('#df-c98f5ffe-d659-439d-86c6-f9371688edf1 button.colab-df-convert');\n",
              "      buttonEl.style.display =\n",
              "        google.colab.kernel.accessAllowed ? 'block' : 'none';\n",
              "\n",
              "      async function convertToInteractive(key) {\n",
              "        const element = document.querySelector('#df-c98f5ffe-d659-439d-86c6-f9371688edf1');\n",
              "        const dataTable =\n",
              "          await google.colab.kernel.invokeFunction('convertToInteractive',\n",
              "                                                    [key], {});\n",
              "        if (!dataTable) return;\n",
              "\n",
              "        const docLinkHtml = 'Like what you see? Visit the ' +\n",
              "          '<a target=\"_blank\" href=https://colab.research.google.com/notebooks/data_table.ipynb>data table notebook</a>'\n",
              "          + ' to learn more about interactive tables.';\n",
              "        element.innerHTML = '';\n",
              "        dataTable['output_type'] = 'display_data';\n",
              "        await google.colab.output.renderOutput(dataTable, element);\n",
              "        const docLink = document.createElement('div');\n",
              "        docLink.innerHTML = docLinkHtml;\n",
              "        element.appendChild(docLink);\n",
              "      }\n",
              "    </script>\n",
              "  </div>\n",
              "\n",
              "\n",
              "    <div id=\"df-4f70684b-a20b-4c22-b727-6d8d88fb3f2f\">\n",
              "      <button class=\"colab-df-quickchart\" onclick=\"quickchart('df-4f70684b-a20b-4c22-b727-6d8d88fb3f2f')\"\n",
              "                title=\"Suggest charts\"\n",
              "                style=\"display:none;\">\n",
              "\n",
              "<svg xmlns=\"http://www.w3.org/2000/svg\" height=\"24px\"viewBox=\"0 0 24 24\"\n",
              "     width=\"24px\">\n",
              "    <g>\n",
              "        <path d=\"M19 3H5c-1.1 0-2 .9-2 2v14c0 1.1.9 2 2 2h14c1.1 0 2-.9 2-2V5c0-1.1-.9-2-2-2zM9 17H7v-7h2v7zm4 0h-2V7h2v10zm4 0h-2v-4h2v4z\"/>\n",
              "    </g>\n",
              "</svg>\n",
              "      </button>\n",
              "\n",
              "<style>\n",
              "  .colab-df-quickchart {\n",
              "      --bg-color: #E8F0FE;\n",
              "      --fill-color: #1967D2;\n",
              "      --hover-bg-color: #E2EBFA;\n",
              "      --hover-fill-color: #174EA6;\n",
              "      --disabled-fill-color: #AAA;\n",
              "      --disabled-bg-color: #DDD;\n",
              "  }\n",
              "\n",
              "  [theme=dark] .colab-df-quickchart {\n",
              "      --bg-color: #3B4455;\n",
              "      --fill-color: #D2E3FC;\n",
              "      --hover-bg-color: #434B5C;\n",
              "      --hover-fill-color: #FFFFFF;\n",
              "      --disabled-bg-color: #3B4455;\n",
              "      --disabled-fill-color: #666;\n",
              "  }\n",
              "\n",
              "  .colab-df-quickchart {\n",
              "    background-color: var(--bg-color);\n",
              "    border: none;\n",
              "    border-radius: 50%;\n",
              "    cursor: pointer;\n",
              "    display: none;\n",
              "    fill: var(--fill-color);\n",
              "    height: 32px;\n",
              "    padding: 0;\n",
              "    width: 32px;\n",
              "  }\n",
              "\n",
              "  .colab-df-quickchart:hover {\n",
              "    background-color: var(--hover-bg-color);\n",
              "    box-shadow: 0 1px 2px rgba(60, 64, 67, 0.3), 0 1px 3px 1px rgba(60, 64, 67, 0.15);\n",
              "    fill: var(--button-hover-fill-color);\n",
              "  }\n",
              "\n",
              "  .colab-df-quickchart-complete:disabled,\n",
              "  .colab-df-quickchart-complete:disabled:hover {\n",
              "    background-color: var(--disabled-bg-color);\n",
              "    fill: var(--disabled-fill-color);\n",
              "    box-shadow: none;\n",
              "  }\n",
              "\n",
              "  .colab-df-spinner {\n",
              "    border: 2px solid var(--fill-color);\n",
              "    border-color: transparent;\n",
              "    border-bottom-color: var(--fill-color);\n",
              "    animation:\n",
              "      spin 1s steps(1) infinite;\n",
              "  }\n",
              "\n",
              "  @keyframes spin {\n",
              "    0% {\n",
              "      border-color: transparent;\n",
              "      border-bottom-color: var(--fill-color);\n",
              "      border-left-color: var(--fill-color);\n",
              "    }\n",
              "    20% {\n",
              "      border-color: transparent;\n",
              "      border-left-color: var(--fill-color);\n",
              "      border-top-color: var(--fill-color);\n",
              "    }\n",
              "    30% {\n",
              "      border-color: transparent;\n",
              "      border-left-color: var(--fill-color);\n",
              "      border-top-color: var(--fill-color);\n",
              "      border-right-color: var(--fill-color);\n",
              "    }\n",
              "    40% {\n",
              "      border-color: transparent;\n",
              "      border-right-color: var(--fill-color);\n",
              "      border-top-color: var(--fill-color);\n",
              "    }\n",
              "    60% {\n",
              "      border-color: transparent;\n",
              "      border-right-color: var(--fill-color);\n",
              "    }\n",
              "    80% {\n",
              "      border-color: transparent;\n",
              "      border-right-color: var(--fill-color);\n",
              "      border-bottom-color: var(--fill-color);\n",
              "    }\n",
              "    90% {\n",
              "      border-color: transparent;\n",
              "      border-bottom-color: var(--fill-color);\n",
              "    }\n",
              "  }\n",
              "</style>\n",
              "\n",
              "      <script>\n",
              "        async function quickchart(key) {\n",
              "          const quickchartButtonEl =\n",
              "            document.querySelector('#' + key + ' button');\n",
              "          quickchartButtonEl.disabled = true;  // To prevent multiple clicks.\n",
              "          quickchartButtonEl.classList.add('colab-df-spinner');\n",
              "          try {\n",
              "            const charts = await google.colab.kernel.invokeFunction(\n",
              "                'suggestCharts', [key], {});\n",
              "          } catch (error) {\n",
              "            console.error('Error during call to suggestCharts:', error);\n",
              "          }\n",
              "          quickchartButtonEl.classList.remove('colab-df-spinner');\n",
              "          quickchartButtonEl.classList.add('colab-df-quickchart-complete');\n",
              "        }\n",
              "        (() => {\n",
              "          let quickchartButtonEl =\n",
              "            document.querySelector('#df-4f70684b-a20b-4c22-b727-6d8d88fb3f2f button');\n",
              "          quickchartButtonEl.style.display =\n",
              "            google.colab.kernel.accessAllowed ? 'block' : 'none';\n",
              "        })();\n",
              "      </script>\n",
              "    </div>\n",
              "\n",
              "  <div id=\"id_2362bd2e-dce7-4f46-b1c9-63146f90ea5f\">\n",
              "    <style>\n",
              "      .colab-df-generate {\n",
              "        background-color: #E8F0FE;\n",
              "        border: none;\n",
              "        border-radius: 50%;\n",
              "        cursor: pointer;\n",
              "        display: none;\n",
              "        fill: #1967D2;\n",
              "        height: 32px;\n",
              "        padding: 0 0 0 0;\n",
              "        width: 32px;\n",
              "      }\n",
              "\n",
              "      .colab-df-generate:hover {\n",
              "        background-color: #E2EBFA;\n",
              "        box-shadow: 0px 1px 2px rgba(60, 64, 67, 0.3), 0px 1px 3px 1px rgba(60, 64, 67, 0.15);\n",
              "        fill: #174EA6;\n",
              "      }\n",
              "\n",
              "      [theme=dark] .colab-df-generate {\n",
              "        background-color: #3B4455;\n",
              "        fill: #D2E3FC;\n",
              "      }\n",
              "\n",
              "      [theme=dark] .colab-df-generate:hover {\n",
              "        background-color: #434B5C;\n",
              "        box-shadow: 0px 1px 3px 1px rgba(0, 0, 0, 0.15);\n",
              "        filter: drop-shadow(0px 1px 2px rgba(0, 0, 0, 0.3));\n",
              "        fill: #FFFFFF;\n",
              "      }\n",
              "    </style>\n",
              "    <button class=\"colab-df-generate\" onclick=\"generateWithVariable('df')\"\n",
              "            title=\"Generate code using this dataframe.\"\n",
              "            style=\"display:none;\">\n",
              "\n",
              "  <svg xmlns=\"http://www.w3.org/2000/svg\" height=\"24px\"viewBox=\"0 0 24 24\"\n",
              "       width=\"24px\">\n",
              "    <path d=\"M7,19H8.4L18.45,9,17,7.55,7,17.6ZM5,21V16.75L18.45,3.32a2,2,0,0,1,2.83,0l1.4,1.43a1.91,1.91,0,0,1,.58,1.4,1.91,1.91,0,0,1-.58,1.4L9.25,21ZM18.45,9,17,7.55Zm-12,3A5.31,5.31,0,0,0,4.9,8.1,5.31,5.31,0,0,0,1,6.5,5.31,5.31,0,0,0,4.9,4.9,5.31,5.31,0,0,0,6.5,1,5.31,5.31,0,0,0,8.1,4.9,5.31,5.31,0,0,0,12,6.5,5.46,5.46,0,0,0,6.5,12Z\"/>\n",
              "  </svg>\n",
              "    </button>\n",
              "    <script>\n",
              "      (() => {\n",
              "      const buttonEl =\n",
              "        document.querySelector('#id_2362bd2e-dce7-4f46-b1c9-63146f90ea5f button.colab-df-generate');\n",
              "      buttonEl.style.display =\n",
              "        google.colab.kernel.accessAllowed ? 'block' : 'none';\n",
              "\n",
              "      buttonEl.onclick = () => {\n",
              "        google.colab.notebook.generateWithVariable('df');\n",
              "      }\n",
              "      })();\n",
              "    </script>\n",
              "  </div>\n",
              "\n",
              "    </div>\n",
              "  </div>\n"
            ],
            "application/vnd.google.colaboratory.intrinsic+json": {
              "type": "dataframe",
              "variable_name": "df",
              "summary": "{\n  \"name\": \"df\",\n  \"rows\": 15,\n  \"fields\": [\n    {\n      \"column\": \"Nilai\",\n      \"properties\": {\n        \"dtype\": \"number\",\n        \"std\": 5,\n        \"min\": 78,\n        \"max\": 94,\n        \"num_unique_values\": 14,\n        \"samples\": [\n          81,\n          94,\n          85\n        ],\n        \"semantic_type\": \"\",\n        \"description\": \"\"\n      }\n    },\n    {\n      \"column\": \"Kelompok\",\n      \"properties\": {\n        \"dtype\": \"category\",\n        \"num_unique_values\": 3,\n        \"samples\": [\n          \"Metode A\",\n          \"Metode B\",\n          \"Metode C\"\n        ],\n        \"semantic_type\": \"\",\n        \"description\": \"\"\n      }\n    }\n  ]\n}"
            }
          },
          "metadata": {},
          "execution_count": 6
        }
      ]
    },
    {
      "cell_type": "markdown",
      "source": [
        "#### Visualisasi data dengan boxplot"
      ],
      "metadata": {
        "id": "2pmZk7Cf86t6"
      }
    },
    {
      "cell_type": "code",
      "source": [
        "plt.figure(figsize=(8, 6))\n",
        "sns.boxplot(x='Kelompok', y='Nilai', data=df)\n",
        "plt.title('Distribusi Nilai Berdasarkan Metode Pengajaran')\n",
        "plt.show()"
      ],
      "metadata": {
        "colab": {
          "base_uri": "https://localhost:8080/",
          "height": 564
        },
        "id": "MevNsbj488Zt",
        "outputId": "a014a2fb-65cf-464e-c8bd-3b3b9527b3ca"
      },
      "execution_count": null,
      "outputs": [
        {
          "output_type": "display_data",
          "data": {
            "text/plain": [
              "<Figure size 800x600 with 1 Axes>"
            ],
            "image/png": "[encoded data removed]"
          },
          "metadata": {}
        }
      ]
    },
    {
      "cell_type": "markdown",
      "source": [
        "#### Visualisasi data dengan histogram"
      ],
      "metadata": {
        "id": "3OJAmWDRHbX6"
      }
    },
    {
      "cell_type": "code",
      "source": [
        "sns.histplot(data=df[df['Kelompok'] == 'Metode A'], x='Nilai', bins=10, kde=True)\n",
        "plt.title('Histogram Nilai untuk Metode A')\n",
        "plt.xlabel('Nilai')\n",
        "plt.ylabel('Frekuensi')\n",
        "plt.show()\n",
        "\n",
        "sns.histplot(data=df[df['Kelompok'] == 'Metode B'], x='Nilai', bins=10, kde=True)\n",
        "plt.title('Histogram Nilai untuk Metode B')\n",
        "plt.xlabel('Nilai')\n",
        "plt.ylabel('Frekuensi')\n",
        "plt.show()\n",
        "\n",
        "sns.histplot(data=df[df['Kelompok'] == 'Metode C'], x='Nilai', bins=10, kde=True)\n",
        "plt.title('Histogram Nilai untuk Metode C')\n",
        "plt.xlabel('Nilai')\n",
        "plt.ylabel('Frekuensi')\n",
        "plt.show()"
      ],
      "metadata": {
        "colab": {
          "base_uri": "https://localhost:8080/",
          "height": 1000
        },
        "id": "9boPnPPsIK0P",
        "outputId": "5634d8d2-7278-4990-def6-13d4265b9d1b"
      },
      "execution_count": null,
      "outputs": [
        {
          "output_type": "display_data",
          "data": {
            "text/plain": [
              "<Figure size 640x480 with 1 Axes>"
            ],
            "image/png": "[encoded data removed]"
          },
          "metadata": {}
        },
        {
          "output_type": "display_data",
          "data": {
            "text/plain": [
              "<Figure size 640x480 with 1 Axes>"
            ],
            "image/png": "[encoded data removed]"
          },
          "metadata": {}
        },
        {
          "output_type": "display_data",
          "data": {
            "text/plain": [
              "<Figure size 640x480 with 1 Axes>"
            ],
            "image/png": "[encoded data removed]"
          },
          "metadata": {}
        }
      ]
    },
    {
      "cell_type": "markdown",
      "source": [
        "#### Melakukan ANOVA satu arah"
      ],
      "metadata": {
        "id": "e-ckhESE8_BP"
      }
    },
    {
      "cell_type": "code",
      "source": [
        "f_stat, p_value = stats.f_oneway(metode_a, metode_b, metode_c)\n",
        "print(f\"Statistik F: {f_stat}\")\n",
        "print(f\"P-value: {p_value}\")"
      ],
      "metadata": {
        "colab": {
          "base_uri": "https://localhost:8080/"
        },
        "id": "sCmqS7vv9C5S",
        "outputId": "1b8fdbbb-f1dc-4427-b633-9663a1a1f5df"
      },
      "execution_count": null,
      "outputs": [
        {
          "output_type": "stream",
          "name": "stdout",
          "text": [
            "Statistik F: 62.896551724137694\n",
            "P-value: 4.362370887030977e-07\n"
          ]
        }
      ]
    },
    {
      "cell_type": "markdown",
      "source": [
        "#### Interpretasi"
      ],
      "metadata": {
        "id": "PVbd6C4l9GTQ"
      }
    },
    {
      "cell_type": "code",
      "source": [
        "if p_value < 0.05:\n",
        "    print(\"Tolak H0: Ada perbedaan signifikan antara metode pengajaran.\")\n",
        "else:\n",
        "    print(\"Gagal tolak H0: Tidak ada perbedaan signifikan antara metode pengajaran.\")"
      ],
      "metadata": {
        "colab": {
          "base_uri": "https://localhost:8080/"
        },
        "id": "Y5xLzNpT9KFL",
        "outputId": "f81689b0-c0aa-4339-f127-a15229c92df0"
      },
      "execution_count": null,
      "outputs": [
        {
          "output_type": "stream",
          "name": "stdout",
          "text": [
            "Tolak H0: Ada perbedaan signifikan antara metode pengajaran.\n"
          ]
        }
      ]
    },
    {
      "cell_type": "markdown",
      "source": [
        "### Bagian 6: Contoh Studi Kasus"
      ],
      "metadata": {
        "id": "HqlcqLub9QAG"
      }
    },
    {
      "cell_type": "markdown",
      "source": [
        "### Studi Kasus 1: Efektivitas Pupuk pada Pertumbuhan Tanaman"
      ],
      "metadata": {
        "id": "6ISAi1C8_rEv"
      }
    },
    {
      "cell_type": "markdown",
      "source": [
        "Masalah: Seorang petani ingin tahu apakah tiga jenis pupuk (Pupuk A, B, dan C) memberikan hasil yang berbeda pada tinggi tanaman setelah 30 hari."
      ],
      "metadata": {
        "id": "2jRoQvzX_0Yd"
      }
    },
    {
      "cell_type": "code",
      "source": [
        "pupuk_a = [25, 28, 27, 26, 29]  # Tinggi tanaman (cm)\n",
        "pupuk_b = [30, 32, 31, 33, 34]\n",
        "pupuk_c = [22, 24, 23, 25, 21]"
      ],
      "metadata": {
        "id": "GXlRzKoQ_u3U"
      },
      "execution_count": null,
      "outputs": []
    },
    {
      "cell_type": "markdown",
      "source": [
        "#### Visualisasi"
      ],
      "metadata": {
        "id": "60BTNtzx_6Xe"
      }
    },
    {
      "cell_type": "code",
      "source": [
        "data_pupuk = pupuk_a + pupuk_b + pupuk_c\n",
        "kelompok_pupuk = ['Pupuk A']*5 + ['Pupuk B']*5 + ['Pupuk C']*5\n",
        "df_pupuk = pd.DataFrame({'Tinggi': data_pupuk, 'Pupuk': kelompok_pupuk})\n",
        "plt.figure(figsize=(8, 6))\n",
        "sns.boxplot(x='Pupuk', y='Tinggi', data=df_pupuk)\n",
        "plt.title('Tinggi Tanaman Berdasarkan Jenis Pupuk')\n",
        "plt.show()"
      ],
      "metadata": {
        "colab": {
          "base_uri": "https://localhost:8080/",
          "height": 564
        },
        "id": "QbWPo-Xk_9tJ",
        "outputId": "80219868-4551-42ad-943a-e8c7f1948f3a"
      },
      "execution_count": null,
      "outputs": [
        {
          "output_type": "display_data",
          "data": {
            "text/plain": [
              "<Figure size 800x600 with 1 Axes>"
            ],
            "image/png": "[encoded data removed]"
          },
          "metadata": {}
        }
      ]
    },
    {
      "cell_type": "markdown",
      "source": [
        "#### ANOVA"
      ],
      "metadata": {
        "id": "lNfCv1TYAEZ1"
      }
    },
    {
      "cell_type": "code",
      "source": [
        "f_stat_pupuk, p_value_pupuk = stats.f_oneway(pupuk_a, pupuk_b, pupuk_c)\n",
        "print(f\"Studi Kasus 1 - Statistik F: {f_stat_pupuk}\")\n",
        "print(f\"Studi Kasus 1 - P-value: {p_value_pupuk}\")\n",
        "if p_value_pupuk < 0.05:\n",
        "    print(\"Kesimpulan: Ada perbedaan signifikan dalam efektivitas pupuk.\")\n",
        "else:\n",
        "    print(\"Kesimpulan: Tidak ada perbedaan signifikan dalam efektivitas pupuk.\")"
      ],
      "metadata": {
        "colab": {
          "base_uri": "https://localhost:8080/"
        },
        "id": "bwCyi0CcAGWJ",
        "outputId": "f6ddd997-edcf-428f-d4c1-98e1f1769eb9"
      },
      "execution_count": null,
      "outputs": [
        {
          "output_type": "stream",
          "name": "stdout",
          "text": [
            "Studi Kasus 1 - Statistik F: 40.666666666666664\n",
            "Studi Kasus 1 - P-value: 4.517173966629553e-06\n",
            "Kesimpulan: Ada perbedaan signifikan dalam efektivitas pupuk.\n"
          ]
        }
      ]
    },
    {
      "cell_type": "markdown",
      "source": [
        "### Studi Kasus 2: Pengaruh Metode Pengajaran terhadap Nilai Siswa"
      ],
      "metadata": {
        "id": "q47kkAMpBnoE"
      }
    },
    {
      "cell_type": "markdown",
      "source": [
        "Masalah: Seorang guru ingin menguji apakah tiga metode pengajaran (Luring, Daring, Hibrid) memengaruhi nilai siswa."
      ],
      "metadata": {
        "id": "HL72YURnBrwm"
      }
    },
    {
      "cell_type": "code",
      "source": [
        "luring = [80, 82, 85, 78, 81]\n",
        "daring = [75, 77, 74, 76, 78]\n",
        "hibrid = [88, 90, 87, 89, 91]"
      ],
      "metadata": {
        "id": "TZdDX-AFBnBB"
      },
      "execution_count": null,
      "outputs": []
    },
    {
      "cell_type": "markdown",
      "source": [
        "#### Visualisasi"
      ],
      "metadata": {
        "id": "8ZoLDpBlBwe5"
      }
    },
    {
      "cell_type": "code",
      "source": [
        "data_nilai = luring + daring + hibrid\n",
        "kelompok_nilai = ['Luring']*5 + ['Daring']*5 + ['Hibrid']*5\n",
        "df_nilai = pd.DataFrame({'Nilai': data_nilai, 'Metode': kelompok_nilai})\n",
        "plt.figure(figsize=(8, 6))\n",
        "sns.boxplot(x='Metode', y='Nilai', data=df_nilai)\n",
        "plt.title('Nilai Siswa Berdasarkan Metode Pengajaran')\n",
        "plt.show()"
      ],
      "metadata": {
        "colab": {
          "base_uri": "https://localhost:8080/",
          "height": 564
        },
        "id": "EN4cBuvoB0Lu",
        "outputId": "10f167c8-61cd-4e12-c0ac-a0c8c490bdab"
      },
      "execution_count": null,
      "outputs": [
        {
          "output_type": "display_data",
          "data": {
            "text/plain": [
              "<Figure size 800x600 with 1 Axes>"
            ],
            "image/png": "[encoded data removed]"
          },
          "metadata": {}
        }
      ]
    },
    {
      "cell_type": "markdown",
      "source": [
        "#### ANOVA"
      ],
      "metadata": {
        "id": "-PJaC44jB4fH"
      }
    },
    {
      "cell_type": "code",
      "source": [
        "f_stat_nilai, p_value_nilai = stats.f_oneway(luring, daring, hibrid)\n",
        "print(f\"Studi Kasus 2 - Statistik F: {f_stat_nilai}\")\n",
        "print(f\"Studi Kasus 2 - P-value: {p_value_nilai}\")\n",
        "if p_value_nilai < 0.05:\n",
        "    print(\"Kesimpulan: Ada perbedaan signifikan dalam nilai siswa berdasarkan metode pengajaran.\")\n",
        "else:\n",
        "    print(\"Kesimpulan: Tidak ada perbedaan signifikan dalam nilai siswa berdasarkan metode pengajaran.\")"
      ],
      "metadata": {
        "colab": {
          "base_uri": "https://localhost:8080/"
        },
        "id": "4CICTgoZB6tD",
        "outputId": "76b582ee-c248-41c9-a27b-cc2cbf214c4f"
      },
      "execution_count": null,
      "outputs": [
        {
          "output_type": "stream",
          "name": "stdout",
          "text": [
            "Studi Kasus 2 - Statistik F: 54.88888888888874\n",
            "Studi Kasus 2 - P-value: 9.155439730056927e-07\n",
            "Kesimpulan: Ada perbedaan signifikan dalam nilai siswa berdasarkan metode pengajaran.\n"
          ]
        }
      ]
    },
    {
      "cell_type": "markdown",
      "source": [
        "### Studi Kasus 3: Kepuasan Pelanggan di Cabang Restoran\n"
      ],
      "metadata": {
        "id": "w8hDy1rsCKxA"
      }
    },
    {
      "cell_type": "markdown",
      "source": [
        "Masalah: Seorang manajer restoran ingin tahu apakah ada perbedaan kepuasan pelanggan di tiga cabang (Cabang X, Y, Z)."
      ],
      "metadata": {
        "id": "q03ZVynzCNYD"
      }
    },
    {
      "cell_type": "code",
      "source": [
        "cabang_x = [4.2, 4.5, 4.3, 4.4, 4.1]  # Skala 1-5\n",
        "cabang_y = [3.8, 3.9, 4.0, 3.7, 3.6]\n",
        "cabang_z = [4.8, 4.7, 4.9, 4.6, 4.5]"
      ],
      "metadata": {
        "id": "HFiQ1z52CKhh"
      },
      "execution_count": null,
      "outputs": []
    },
    {
      "cell_type": "markdown",
      "source": [
        "#### Visualisasi"
      ],
      "metadata": {
        "id": "UX6cIti0CP9X"
      }
    },
    {
      "cell_type": "code",
      "source": [
        "data_kepuasan = cabang_x + cabang_y + cabang_z\n",
        "kelompok_kepuasan = ['Cabang X']*5 + ['Cabang Y']*5 + ['Cabang Z']*5\n",
        "df_kepuasan = pd.DataFrame({'Kepuasan': data_kepuasan, 'Cabang': kelompok_kepuasan})\n",
        "plt.figure(figsize=(8, 6))\n",
        "sns.boxplot(x='Cabang', y='Kepuasan', data=df_kepuasan)\n",
        "plt.title('Kepuasan Pelanggan Berdasarkan Cabang')\n",
        "plt.show()"
      ],
      "metadata": {
        "colab": {
          "base_uri": "https://localhost:8080/",
          "height": 564
        },
        "id": "HnBNYcqCCSu2",
        "outputId": "f1be8c94-7dd5-4cae-cda6-503b42b3f94a"
      },
      "execution_count": null,
      "outputs": [
        {
          "output_type": "display_data",
          "data": {
            "text/plain": [
              "<Figure size 800x600 with 1 Axes>"
            ],
            "image/png": "[encoded data removed]"
          },
          "metadata": {}
        }
      ]
    },
    {
      "cell_type": "markdown",
      "source": [
        "#### ANOVA"
      ],
      "metadata": {
        "id": "zRkxXuTvCVKO"
      }
    },
    {
      "cell_type": "code",
      "source": [
        "f_stat_kepuasan, p_value_kepuasan = stats.f_oneway(cabang_x, cabang_y, cabang_z)\n",
        "print(f\"Studi Kasus 3 - Statistik F: {f_stat_kepuasan}\")\n",
        "print(f\"Studi Kasus 3 - P-value: {p_value_kepuasan}\")\n",
        "if p_value_kepuasan < 0.05:\n",
        "    print(\"Kesimpulan: Ada perbedaan signifikan dalam kepuasan pelanggan antar cabang.\")\n",
        "else:\n",
        "    print(\"Kesimpulan: Tidak ada perbedaan signifikan dalam kepuasan pelanggan antar cabang.\")"
      ],
      "metadata": {
        "colab": {
          "base_uri": "https://localhost:8080/"
        },
        "id": "7RpooCNDCYTE",
        "outputId": "ac7445d5-26e8-4402-b8f1-90c65bb642e5"
      },
      "execution_count": null,
      "outputs": [
        {
          "output_type": "stream",
          "name": "stdout",
          "text": [
            "Studi Kasus 3 - Statistik F: 40.66666666666663\n",
            "Studi Kasus 3 - P-value: 4.51717396662957e-06\n",
            "Kesimpulan: Ada perbedaan signifikan dalam kepuasan pelanggan antar cabang.\n"
          ]
        }
      ]
    },
    {
      "cell_type": "markdown",
      "source": [
        "### Studi Kasus 4: Performa Algoritma Machine Learning\n"
      ],
      "metadata": {
        "id": "W2K0UM7gCenx"
      }
    },
    {
      "cell_type": "markdown",
      "source": [
        "Masalah: Seorang data scientist ingin membandingkan akurasi tiga algoritma ML (KNN, SVM, Random Forest) pada dataset tertentu."
      ],
      "metadata": {
        "id": "LZe2YdDmChTj"
      }
    },
    {
      "cell_type": "code",
      "source": [
        "knn = [0.85, 0.87, 0.86, 0.88, 0.84]\n",
        "svm = [0.90, 0.91, 0.89, 0.92, 0.90]\n",
        "rf = [0.87, 0.88, 0.86, 0.89, 0.85]"
      ],
      "metadata": {
        "id": "XMs3Qu8mCiGK"
      },
      "execution_count": null,
      "outputs": []
    },
    {
      "cell_type": "markdown",
      "source": [
        "#### Visualisasi"
      ],
      "metadata": {
        "id": "vTO-G5uYCkUd"
      }
    },
    {
      "cell_type": "code",
      "source": [
        "data_akurasi = knn + svm + rf\n",
        "kelompok_akurasi = ['KNN']*5 + ['SVM']*5 + ['Random Forest']*5\n",
        "df_akurasi = pd.DataFrame({'Akurasi': data_akurasi, 'Algoritma': kelompok_akurasi})\n",
        "plt.figure(figsize=(8, 6))\n",
        "sns.boxplot(x='Algoritma', y='Akurasi', data=df_akurasi)\n",
        "plt.title('Akurasi Algoritma Machine Learning')\n",
        "plt.show()"
      ],
      "metadata": {
        "colab": {
          "base_uri": "https://localhost:8080/",
          "height": 564
        },
        "id": "_i2a7fzBCmrm",
        "outputId": "4e8c690e-85fa-4d41-d526-c889964d69cf"
      },
      "execution_count": null,
      "outputs": [
        {
          "output_type": "display_data",
          "data": {
            "text/plain": [
              "<Figure size 800x600 with 1 Axes>"
            ],
            "image/png": "[encoded data removed]"
          },
          "metadata": {}
        }
      ]
    },
    {
      "cell_type": "markdown",
      "source": [
        "#### ANOVA\n"
      ],
      "metadata": {
        "id": "q5J-ANXXCq6-"
      }
    },
    {
      "cell_type": "code",
      "source": [
        "f_stat_akurasi, p_value_akurasi = stats.f_oneway(knn, svm, rf)\n",
        "print(f\"Studi Kasus 4 - Statistik F: {f_stat_akurasi}\")\n",
        "print(f\"Studi Kasus 4 - P-value: {p_value_akurasi}\")\n",
        "if p_value_akurasi < 0.05:\n",
        "    print(\"Kesimpulan: Ada perbedaan signifikan dalam performa algoritma.\")\n",
        "else:\n",
        "    print(\"Kesimpulan: Tidak ada perbedaan signifikan dalam performa algoritma.\")"
      ],
      "metadata": {
        "colab": {
          "base_uri": "https://localhost:8080/"
        },
        "id": "m3ulZhfKCs1Y",
        "outputId": "4be9cdd2-f64e-4306-8c2d-f3a56533983a"
      },
      "execution_count": null,
      "outputs": [
        {
          "output_type": "stream",
          "name": "stdout",
          "text": [
            "Studi Kasus 4 - Statistik F: 12.66666666666667\n",
            "Studi Kasus 4 - P-value: 0.0011028256754466656\n",
            "Kesimpulan: Ada perbedaan signifikan dalam performa algoritma.\n"
          ]
        }
      ]
    }
  ]
}